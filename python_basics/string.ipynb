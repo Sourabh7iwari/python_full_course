{
 "cells": [
  {
   "cell_type": "code",
   "execution_count": 2,
   "metadata": {},
   "outputs": [
    {
     "name": "stdout",
     "output_type": "stream",
     "text": [
      "singeQuoteString\n",
      " doubleQuoteString\n",
      " Document\n",
      "type string\n"
     ]
    }
   ],
   "source": [
    "st = 'singeQuoteString\\n'\n",
    "st2 = \"doubleQuoteString\\n\"\n",
    "st3 = '''Document\n",
    "type string'''\n",
    "print(st,st2,st3)"
   ]
  },
  {
   "cell_type": "code",
   "execution_count": 6,
   "metadata": {},
   "outputs": [
    {
     "name": "stdout",
     "output_type": "stream",
     "text": [
      "eQu\n",
      "teStrin\n",
      "e string\n"
     ]
    }
   ],
   "source": [
    "#postive indexing in string\n",
    "print(st[4:7])\n",
    "print(st2[9:16])\n",
    "print(st3[12:21])"
   ]
  },
  {
   "cell_type": "code",
   "execution_count": 15,
   "metadata": {},
   "outputs": [
    {
     "name": "stdout",
     "output_type": "stream",
     "text": [
      "\n",
      "gnirtSetouQegnis\n"
     ]
    }
   ],
   "source": [
    "#reverse of string by negative index\n",
    "\n",
    "print(st[17::-1])"
   ]
  },
  {
   "cell_type": "code",
   "execution_count": null,
   "metadata": {},
   "outputs": [],
   "source": []
  }
 ],
 "metadata": {
  "kernelspec": {
   "display_name": "Python 3",
   "language": "python",
   "name": "python3"
  },
  "language_info": {
   "codemirror_mode": {
    "name": "ipython",
    "version": 3
   },
   "file_extension": ".py",
   "mimetype": "text/x-python",
   "name": "python",
   "nbconvert_exporter": "python",
   "pygments_lexer": "ipython3",
   "version": "3.12.4"
  }
 },
 "nbformat": 4,
 "nbformat_minor": 2
}
