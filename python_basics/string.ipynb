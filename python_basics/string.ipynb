{
 "cells": [
  {
   "cell_type": "code",
   "execution_count": 2,
   "metadata": {},
   "outputs": [
    {
     "name": "stdout",
     "output_type": "stream",
     "text": [
      "singeQuoteString\n",
      " doubleQuoteString\n",
      " Document\n",
      "type string\n"
     ]
    }
   ],
   "source": [
    "st = 'singeQuoteString\\n'\n",
    "st2 = \"doubleQuoteString\\n\"\n",
    "st3 = '''Document\n",
    "type string'''\n",
    "print(st,st2,st3)"
   ]
  },
  {
   "cell_type": "code",
   "execution_count": 6,
   "metadata": {},
   "outputs": [
    {
     "name": "stdout",
     "output_type": "stream",
     "text": [
      "eQu\n",
      "teStrin\n",
      "e string\n"
     ]
    }
   ],
   "source": [
    "#slicing by postive indexing in string\n",
    "print(st[4:7])\n",
    "print(st2[9:16])\n",
    "print(st3[12:21])"
   ]
  },
  {
   "cell_type": "code",
   "execution_count": 15,
   "metadata": {},
   "outputs": [
    {
     "name": "stdout",
     "output_type": "stream",
     "text": [
      "\n",
      "gnirtSetouQegnis\n"
     ]
    }
   ],
   "source": [
    "#reverse slicing  of string by negative index\n",
    "\n",
    "print(st[17::-1])"
   ]
  },
  {
   "cell_type": "code",
   "execution_count": 3,
   "metadata": {},
   "outputs": [
    {
     "name": "stdout",
     "output_type": "stream",
     "text": [
      "arithmetic\n",
      "delhimetro\n",
      "helohelohelohelohelo \n",
      "\n",
      "comparison\n",
      "False\n",
      "False \n",
      "\n",
      "Relational \n",
      "True\n",
      "False \n",
      "\n",
      "Logical\n",
      "lal\n",
      "lala\n",
      "\n",
      "sky\n"
     ]
    }
   ],
   "source": [
    "#operators operation in string\n",
    "print('arithmetic')\n",
    "print(\"delhi\"+\"metro\")\n",
    "print(\"helo\"*5,'\\n')\n",
    "print('comparison')\n",
    "print(\"emi\"==\"eme\")\n",
    "print('lala'!=\"lala\",'\\n')\n",
    "print('Relational ')\n",
    "print('ab'<'c')\n",
    "print('maxe'>'min','\\n')#alphabet oder(lexiography)\n",
    "print('Logical')\n",
    "print('lala' and 'lal')\n",
    "print('lala' or 'lal')\n",
    "print('water' and '')\n",
    "print('' or 'sky')"
   ]
  },
  {
   "cell_type": "code",
   "execution_count": 6,
   "metadata": {},
   "outputs": [
    {
     "name": "stdout",
     "output_type": "stream",
     "text": [
      "delhi\n",
      "l\n",
      "h\n",
      "i\n",
      "_\n",
      "m\n",
      "e\n",
      "t\n",
      "r\n"
     ]
    }
   ],
   "source": [
    "#looping over string\n",
    "for i in \"delhi\":\n",
    "    print(i,end='')\n",
    "print()\n",
    "\n",
    "for j in \"delhi_metro\"[2:-1]:\n",
    "    print(j)"
   ]
  },
  {
   "cell_type": "code",
   "execution_count": 10,
   "metadata": {},
   "outputs": [
    {
     "data": {
      "text/plain": [
       "False"
      ]
     },
     "execution_count": 10,
     "metadata": {},
     "output_type": "execute_result"
    }
   ],
   "source": [
    "'S' in 'string'"
   ]
  },
  {
   "cell_type": "code",
   "execution_count": 9,
   "metadata": {},
   "outputs": [
    {
     "data": {
      "text/plain": [
       "True"
      ]
     },
     "execution_count": 9,
     "metadata": {},
     "output_type": "execute_result"
    }
   ],
   "source": [
    "'s' in 'string'"
   ]
  },
  {
   "cell_type": "code",
   "execution_count": null,
   "metadata": {},
   "outputs": [],
   "source": []
  }
 ],
 "metadata": {
  "kernelspec": {
   "display_name": "Python 3",
   "language": "python",
   "name": "python3"
  },
  "language_info": {
   "codemirror_mode": {
    "name": "ipython",
    "version": 3
   },
   "file_extension": ".py",
   "mimetype": "text/x-python",
   "name": "python",
   "nbconvert_exporter": "python",
   "pygments_lexer": "ipython3",
   "version": "3.12.4"
  }
 },
 "nbformat": 4,
 "nbformat_minor": 2
}
