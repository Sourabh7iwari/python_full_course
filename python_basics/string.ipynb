{
 "cells": [
  {
   "cell_type": "code",
   "execution_count": 2,
   "metadata": {},
   "outputs": [
    {
     "name": "stdout",
     "output_type": "stream",
     "text": [
      "singeQuoteString\n",
      " doubleQuoteString\n",
      " Document\n",
      "type string\n"
     ]
    }
   ],
   "source": [
    "st = 'singeQuoteString\\n'\n",
    "st2 = \"doubleQuoteString\\n\"\n",
    "st3 = '''Document\n",
    "type string'''\n",
    "print(st,st2,st3)"
   ]
  },
  {
   "cell_type": "code",
   "execution_count": 6,
   "metadata": {},
   "outputs": [
    {
     "name": "stdout",
     "output_type": "stream",
     "text": [
      "eQu\n",
      "teStrin\n",
      "e string\n"
     ]
    }
   ],
   "source": [
    "#slicing by postive indexing in string\n",
    "print(st[4:7])\n",
    "print(st2[9:16])\n",
    "print(st3[12:21])"
   ]
  },
  {
   "cell_type": "code",
   "execution_count": 15,
   "metadata": {},
   "outputs": [
    {
     "name": "stdout",
     "output_type": "stream",
     "text": [
      "\n",
      "gnirtSetouQegnis\n"
     ]
    }
   ],
   "source": [
    "#reverse slicing  of string by negative index\n",
    "\n",
    "print(st[17::-1])"
   ]
  },
  {
   "cell_type": "code",
   "execution_count": 3,
   "metadata": {},
   "outputs": [
    {
     "name": "stdout",
     "output_type": "stream",
     "text": [
      "arithmetic\n",
      "delhimetro\n",
      "helohelohelohelohelo \n",
      "\n",
      "comparison\n",
      "False\n",
      "False \n",
      "\n",
      "Relational \n",
      "True\n",
      "False \n",
      "\n",
      "Logical\n",
      "lal\n",
      "lala\n",
      "\n",
      "sky\n"
     ]
    }
   ],
   "source": [
    "#operators operation in string\n",
    "print('arithmetic')\n",
    "print(\"delhi\"+\"metro\")\n",
    "print(\"helo\"*5,'\\n')\n",
    "print('comparison')\n",
    "print(\"emi\"==\"eme\")\n",
    "print('lala'!=\"lala\",'\\n')\n",
    "print('Relational ')\n",
    "print('ab'<'c')\n",
    "print('maxe'>'min','\\n')#alphabet oder(lexiography)\n",
    "print('Logical')\n",
    "print('lala' and 'lal')\n",
    "print('lala' or 'lal')\n",
    "print('water' and '')\n",
    "print('' or 'sky')"
   ]
  },
  {
   "cell_type": "code",
   "execution_count": 6,
   "metadata": {},
   "outputs": [
    {
     "name": "stdout",
     "output_type": "stream",
     "text": [
      "delhi\n",
      "l\n",
      "h\n",
      "i\n",
      "_\n",
      "m\n",
      "e\n",
      "t\n",
      "r\n"
     ]
    }
   ],
   "source": [
    "#looping over string\n",
    "for i in \"delhi\":\n",
    "    print(i,end='')\n",
    "print()\n",
    "\n",
    "for j in \"delhi_metro\"[2:-1]:\n",
    "    print(j)"
   ]
  },
  {
   "cell_type": "code",
   "execution_count": 10,
   "metadata": {},
   "outputs": [
    {
     "data": {
      "text/plain": [
       "False"
      ]
     },
     "execution_count": 10,
     "metadata": {},
     "output_type": "execute_result"
    }
   ],
   "source": [
    "'S' in 'string'"
   ]
  },
  {
   "cell_type": "code",
   "execution_count": 9,
   "metadata": {},
   "outputs": [
    {
     "data": {
      "text/plain": [
       "True"
      ]
     },
     "execution_count": 9,
     "metadata": {},
     "output_type": "execute_result"
    }
   ],
   "source": [
    "'s' in 'string'"
   ]
  },
  {
   "cell_type": "code",
   "execution_count": 8,
   "metadata": {},
   "outputs": [
    {
     "name": "stdout",
     "output_type": "stream",
     "text": [
      "{'e', 'o', 'p', 'a', 'l', 'r', 'n'}\n",
      "['a', 'b', 'c', 'd']\n",
      "lenth of 'hello' world is  5\n",
      " max in abc is  c  min in abc is  a\n"
     ]
    }
   ],
   "source": [
    "#some basic built-in function of python that also apply on string data type\n",
    "print(set(\"aeroplane\"))\n",
    "print(sorted(\"badc\"))\n",
    "print(\"lenth of 'hello' world is \",len(\"hello\")) #len()\n",
    "print(\" max in abc is \",max(\"abc\"),\" min in abc is \",min(\"abc\")) #max(),min()"
   ]
  },
  {
   "cell_type": "code",
   "execution_count": 71,
   "metadata": {},
   "outputs": [
    {
     "name": "stdout",
     "output_type": "stream",
     "text": [
      "hello, pytHoN is awesome\n",
      "Hello, python is awesome\n",
      "Hello, Python Is Awesome\n",
      "HELLO, PYTHON IS AWESOME\n",
      "hello, python is awesome\n",
      "HELLO, PYThOn IS AWESOME\n"
     ]
    }
   ],
   "source": [
    "#some basic built-in function that only apply on string data type\n",
    "string = \"hello, pytHoN is awesome\"\n",
    "print(string)\n",
    "print(string.capitalize()) # first character capitalize like 'h' here.\n",
    "print(string.title()) #capitalize first char.. of every word.\n",
    "print(string.upper()) #capitalize every char in string.\n",
    "print(string.lower()) #lower every char in string.\n",
    "print(string.swapcase()) #swape to lower to and from higher."
   ]
  },
  {
   "cell_type": "markdown",
   "metadata": {},
   "source": [
    "count()\n",
    "find()\n",
    "index()"
   ]
  },
  {
   "cell_type": "code",
   "execution_count": 21,
   "metadata": {},
   "outputs": [
    {
     "name": "stdout",
     "output_type": "stream",
     "text": [
      "3\n",
      "-1 4\n"
     ]
    }
   ],
   "source": [
    "print(string.count('o')) #count 'o' char in string\n",
    "print(string.find('Z'), string.find(\"o\")) #find the index of char in arg of func in string, if not found return -1\n",
    "print()"
   ]
  },
  {
   "cell_type": "markdown",
   "metadata": {},
   "source": [
    "endswith() \n",
    "startswith()"
   ]
  },
  {
   "cell_type": "code",
   "execution_count": 24,
   "metadata": {},
   "outputs": [
    {
     "name": "stdout",
     "output_type": "stream",
     "text": [
      "True\n",
      "True\n"
     ]
    }
   ],
   "source": [
    "print(string.endswith(\"me\"))\n",
    "\n",
    "print(string.startswith(\"he\"))"
   ]
  },
  {
   "cell_type": "markdown",
   "metadata": {},
   "source": [
    "f string"
   ]
  },
  {
   "cell_type": "code",
   "execution_count": 25,
   "metadata": {},
   "outputs": [
    {
     "name": "stdout",
     "output_type": "stream",
     "text": [
      "python is awesome language.\n"
     ]
    }
   ],
   "source": [
    "name = \"python\"\n",
    "isa = \"language\"\n",
    "print(f\"{name} is awesome {isa}.\")"
   ]
  },
  {
   "cell_type": "markdown",
   "metadata": {},
   "source": [
    "String type"
   ]
  },
  {
   "cell_type": "code",
   "execution_count": 37,
   "metadata": {},
   "outputs": [
    {
     "name": "stdout",
     "output_type": "stream",
     "text": [
      "True\n",
      "True\n",
      "True\n"
     ]
    }
   ],
   "source": [
    "#isalnum()\n",
    "print(\"123abc\".isalnum()) #check if the string only contains num or alphabets\n",
    "print(\"abc\".isalpha()) #check if string only contains alphabets.\n",
    "print(\"123\".isdigit()) #check if string only contains digits."
   ]
  },
  {
   "cell_type": "markdown",
   "metadata": {},
   "source": [
    "## split/join"
   ]
  },
  {
   "cell_type": "code",
   "execution_count": 55,
   "metadata": {},
   "outputs": [
    {
     "name": "stdout",
     "output_type": "stream",
     "text": [
      "['hello,', 'pytHoN', 'is', 'awesome']\n",
      "['h', 'llo, pytHoN is aw', 'som', '']\n"
     ]
    }
   ],
   "source": [
    "print(string.split())\n",
    "print(string.split(\"e\"))"
   ]
  },
  {
   "cell_type": "code",
   "execution_count": 56,
   "metadata": {},
   "outputs": [
    {
     "name": "stdout",
     "output_type": "stream",
     "text": [
      "{'w': 1, 'm': 1, 'a': 1, 'y': 1, 'e': 3, 'o': 3, 'p': 1, 'N': 1, 't': 1, 's': 2, 'h': 1, 'i': 1, 'H': 1, ',': 1, ' ': 3, 'l': 2}\n",
      "e\n"
     ]
    }
   ],
   "source": [
    "#fun exercise\n",
    "l={}\n",
    "for i in set(string):\n",
    "    l[i]=(string.count(i))\n",
    "print(l)\n",
    "\n",
    "print(max(l, key= lambda x: l[x]))"
   ]
  },
  {
   "cell_type": "code",
   "execution_count": 63,
   "metadata": {},
   "outputs": [
    {
     "data": {
      "text/plain": [
       "'hello,_pytHoN_is_awesome'"
      ]
     },
     "execution_count": 63,
     "metadata": {},
     "output_type": "execute_result"
    }
   ],
   "source": [
    "\" \".join(['hello,', 'pytHoN', 'is', 'awesome'])\n",
    "\"_\".join(['hello,', 'pytHoN', 'is', 'awesome'])"
   ]
  },
  {
   "cell_type": "code",
   "execution_count": 77,
   "metadata": {},
   "outputs": [
    {
     "name": "stdout",
     "output_type": "stream",
     "text": [
      "hello, pytHoN is awesome\n"
     ]
    },
    {
     "data": {
      "text/plain": [
       "'hello, java is awesome'"
      ]
     },
     "execution_count": 77,
     "metadata": {},
     "output_type": "execute_result"
    }
   ],
   "source": [
    "print(string)\n",
    "(string.lower()).replace('python','java')"
   ]
  },
  {
   "cell_type": "code",
   "execution_count": 79,
   "metadata": {},
   "outputs": [
    {
     "data": {
      "text/plain": [
       "'bla bla bla'"
      ]
     },
     "execution_count": 79,
     "metadata": {},
     "output_type": "execute_result"
    }
   ],
   "source": [
    "\" bla bla bla    \".strip()#remove unneccessary space after last word in string "
   ]
  },
  {
   "cell_type": "code",
   "execution_count": null,
   "metadata": {},
   "outputs": [],
   "source": []
  }
 ],
 "metadata": {
  "kernelspec": {
   "display_name": "Python 3",
   "language": "python",
   "name": "python3"
  },
  "language_info": {
   "codemirror_mode": {
    "name": "ipython",
    "version": 3
   },
   "file_extension": ".py",
   "mimetype": "text/x-python",
   "name": "python",
   "nbconvert_exporter": "python",
   "pygments_lexer": "ipython3",
   "version": "3.12.4"
  }
 },
 "nbformat": 4,
 "nbformat_minor": 2
}
