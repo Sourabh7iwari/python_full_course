{
 "cells": [
  {
   "cell_type": "markdown",
   "metadata": {},
   "source": [
    "# Operators\n"
   ]
  },
  {
   "cell_type": "code",
   "execution_count": 7,
   "metadata": {},
   "outputs": [
    {
     "name": "stdout",
     "output_type": "stream",
     "text": [
      "3\n",
      "1\n",
      "6\n",
      "1.3333333333333333\n",
      "1\n",
      "1\n"
     ]
    }
   ],
   "source": [
    "#Arithmetic Operators\n",
    "print(1+2,2-1,3*2,4/3,4//3,3%2,sep='\\n')"
   ]
  },
  {
   "cell_type": "code",
   "execution_count": 3,
   "metadata": {},
   "outputs": [
    {
     "name": "stdout",
     "output_type": "stream",
     "text": [
      "False\n",
      "True\n",
      "True\n",
      "True\n",
      "True\n",
      "False\n"
     ]
    }
   ],
   "source": [
    "#Relational Operators\n",
    "print(4>5,4<5,4>=4,4<=4,4==4,4!=4,sep='\\n')"
   ]
  },
  {
   "cell_type": "code",
   "execution_count": 4,
   "metadata": {},
   "outputs": [
    {
     "name": "stdout",
     "output_type": "stream",
     "text": [
      "True 1 0\n",
      "1 True\n",
      "True True False\n"
     ]
    }
   ],
   "source": [
    "#Logical Operatos\n",
    "print(True and True, 1 and 1, 1 and 0)\n",
    "print(1 or 0, True or False)\n",
    "print(not False, not 0, not 1)"
   ]
  },
  {
   "cell_type": "code",
   "execution_count": 5,
   "metadata": {},
   "outputs": [
    {
     "name": "stdout",
     "output_type": "stream",
     "text": [
      "2 0\n",
      "3 6\n",
      "4 24\n",
      "1 0\n",
      "-5\n",
      "7 3\n"
     ]
    }
   ],
   "source": [
    "# Bitwise Operators\n",
    "print(2 & 3, 2 & 4)\n",
    "\n",
    "print(2 | 3, 2 | 4)\n",
    "\n",
    "print(2<<1, 6<<2)\n",
    "\n",
    "print(2>>1,6>>3)\n",
    "\n",
    "print(~4)\n",
    "\n",
    "print(5^2, 7^4)"
   ]
  },
  {
   "cell_type": "code",
   "execution_count": 9,
   "metadata": {},
   "outputs": [
    {
     "name": "stdout",
     "output_type": "stream",
     "text": [
      "2\n",
      "4\n",
      "8\n",
      "2\n"
     ]
    }
   ],
   "source": [
    "#Assignment Operator\n",
    "a=2\n",
    "print(a)#2\n",
    "\n",
    "a +=2\n",
    "print(a)#4\n",
    "\n",
    "a *= 2\n",
    "print(a)#8\n",
    "\n",
    "a %= 3\n",
    "print(a)#2\n",
    "\n"
   ]
  },
  {
   "cell_type": "code",
   "execution_count": 2,
   "metadata": {},
   "outputs": [
    {
     "name": "stdout",
     "output_type": "stream",
     "text": [
      "True\n",
      "True\n"
     ]
    }
   ],
   "source": [
    "#Membership Operators\n",
    "print('d' in \"delhi\")\n",
    "print('m' not in 'delhi')"
   ]
  },
  {
   "cell_type": "code",
   "execution_count": null,
   "metadata": {},
   "outputs": [],
   "source": []
  }
 ],
 "metadata": {
  "kernelspec": {
   "display_name": "Python 3",
   "language": "python",
   "name": "python3"
  },
  "language_info": {
   "codemirror_mode": {
    "name": "ipython",
    "version": 3
   },
   "file_extension": ".py",
   "mimetype": "text/x-python",
   "name": "python",
   "nbconvert_exporter": "python",
   "pygments_lexer": "ipython3",
   "version": "3.10.12"
  }
 },
 "nbformat": 4,
 "nbformat_minor": 2
}
