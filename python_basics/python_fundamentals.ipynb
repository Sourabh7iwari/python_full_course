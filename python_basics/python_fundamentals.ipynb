{
 "cells": [
  {
   "cell_type": "markdown",
   "metadata": {},
   "source": [
    "# Python output"
   ]
  },
  {
   "cell_type": "code",
   "execution_count": 7,
   "metadata": {},
   "outputs": [
    {
     "name": "stdout",
     "output_type": "stream",
     "text": [
      "Python is Awesome\n",
      "python is\n",
      "                     awesome\n",
      "23\n",
      "17.45\n",
      "True\n",
      "bla\n",
      "            bla \n",
      "                bla 23 0.1 True\n",
      "bla\n",
      "            bla \n",
      "                bla/23/0.1/True\n"
     ]
    }
   ],
   "source": [
    "print(\"Python is Awesome\")\n",
    "print(\"\"\"python is\n",
    "                     awesome\"\"\")\n",
    "print(23)\n",
    "print(17.45)\n",
    "print(True)\n",
    "print(\"\"\"bla\n",
    "            bla \n",
    "                bla\"\"\",23,0.1,True)\n",
    "print(\"\"\"bla\n",
    "            bla \n",
    "                bla\"\"\",23,0.1,True,sep='/')"
   ]
  },
  {
   "cell_type": "code",
   "execution_count": 9,
   "metadata": {},
   "outputs": [
    {
     "name": "stdout",
     "output_type": "stream",
     "text": [
      "sourabh tiwari\n"
     ]
    }
   ],
   "source": [
    "print(\"sourabh\", end=' ')\n",
    "print(\"tiwari\")"
   ]
  },
  {
   "cell_type": "markdown",
   "metadata": {},
   "source": [
    "# Data types"
   ]
  },
  {
   "cell_type": "code",
   "execution_count": 16,
   "metadata": {},
   "outputs": [
    {
     "name": "stdout",
     "output_type": "stream",
     "text": [
      "2 \n",
      "\n",
      "4.5\n",
      "150.0 \n",
      "\n",
      "True False\n",
      "2 1 \n",
      "\n",
      "text string \\n \\t 😀😆\n"
     ]
    }
   ],
   "source": [
    "#Integers\n",
    "print(2,\"\\n\")\n",
    "\n",
    "#float\n",
    "print(4.5)\n",
    "print(1.5e2,\"\\n\")#1.5*10^2\n",
    "\n",
    "#Boolean\n",
    "print(True,False)\n",
    "print(True+1,False+1,\"\\n\")\n",
    "\n",
    "#Text string\n",
    "print(\"text\", 'string',r\"\\n \\t\",u\"\\U0001f600\\U0001F606\")\n"
   ]
  },
  {
   "cell_type": "code",
   "execution_count": 16,
   "metadata": {},
   "outputs": [
    {
     "name": "stdout",
     "output_type": "stream",
     "text": [
      "(3+3j)\n"
     ]
    }
   ],
   "source": [
    "#complex\n",
    "j=1\n",
    "print(3+3j)\n"
   ]
  },
  {
   "cell_type": "code",
   "execution_count": 19,
   "metadata": {},
   "outputs": [
    {
     "name": "stdout",
     "output_type": "stream",
     "text": [
      "[1, 2, 3, 4, 5]\n"
     ]
    }
   ],
   "source": [
    "#List (mutable)\n",
    "print([1,2,3,4,5])"
   ]
  },
  {
   "cell_type": "code",
   "execution_count": 21,
   "metadata": {},
   "outputs": [
    {
     "name": "stdout",
     "output_type": "stream",
     "text": [
      "(1, 2, 3, 4, 5)\n"
     ]
    }
   ],
   "source": [
    "#tuple (immutable)\n",
    "print((1,2,3,4,5))"
   ]
  },
  {
   "cell_type": "code",
   "execution_count": 22,
   "metadata": {},
   "outputs": [
    {
     "name": "stdout",
     "output_type": "stream",
     "text": [
      "{1, 2, 3, 5}\n"
     ]
    }
   ],
   "source": [
    "#sets (mutable)\n",
    "print({1,2,3,3,5})\n"
   ]
  },
  {
   "cell_type": "code",
   "execution_count": 28,
   "metadata": {},
   "outputs": [
    {
     "name": "stdout",
     "output_type": "stream",
     "text": [
      "{'sourbh': 'string', False: 220873, 66: True}\n"
     ]
    }
   ],
   "source": [
    "#dictonary (mutable)\n",
    "print({\"sourbh\":\"string\",\n",
    "        False:220873,\n",
    "        66:True})"
   ]
  },
  {
   "cell_type": "code",
   "execution_count": 33,
   "metadata": {},
   "outputs": [
    {
     "name": "stdout",
     "output_type": "stream",
     "text": [
      "<class 'dict'>\n"
     ]
    }
   ],
   "source": [
    "print(type({}))\n"
   ]
  },
  {
   "cell_type": "markdown",
   "metadata": {},
   "source": [
    "# variable"
   ]
  },
  {
   "cell_type": "code",
   "execution_count": 3,
   "metadata": {},
   "outputs": [
    {
     "name": "stdout",
     "output_type": "stream",
     "text": [
      "5\n",
      "3.17 2 souabh\n"
     ]
    }
   ],
   "source": [
    "#Dynamic typing & binding\n",
    "name = \"souabh\"\n",
    "a = 5\n",
    "print(a)\n",
    "b = 2\n",
    "a=3.17\n",
    "print(a,b, name)"
   ]
  },
  {
   "cell_type": "code",
   "execution_count": 6,
   "metadata": {},
   "outputs": [
    {
     "name": "stdout",
     "output_type": "stream",
     "text": [
      "1 2 3\n",
      "3 3 3\n"
     ]
    }
   ],
   "source": [
    "a,b,c = 1,2,3\n",
    "print(a,b,c)\n",
    "\n",
    "a=b=c\n",
    "print(a,b,c)"
   ]
  },
  {
   "cell_type": "code",
   "execution_count": 7,
   "metadata": {},
   "outputs": [
    {
     "name": "stdout",
     "output_type": "stream",
     "text": [
      "sourab <class 'str'>\n"
     ]
    }
   ],
   "source": [
    "var = input(\"enter data\")\n",
    "print(var,type(var))"
   ]
  },
  {
   "cell_type": "code",
   "execution_count": 5,
   "metadata": {},
   "outputs": [
    {
     "name": "stdout",
     "output_type": "stream",
     "text": [
      "44\n",
      "4\n"
     ]
    }
   ],
   "source": [
    "a = str(4)\n",
    "print(a+a)\n",
    "b = int(4.45)\n",
    "print(b)"
   ]
  },
  {
   "cell_type": "markdown",
   "metadata": {},
   "source": [
    "## Literals"
   ]
  },
  {
   "cell_type": "code",
   "execution_count": 9,
   "metadata": {},
   "outputs": [
    {
     "name": "stdout",
     "output_type": "stream",
     "text": [
      "3\n",
      "34\n",
      "156\n",
      "2970\n"
     ]
    }
   ],
   "source": [
    "#Literals\n",
    "binar = 0b0011 #binary literal\n",
    "decim = 34 #decimal literal\n",
    "oct = 0o234 #octal literal\n",
    "hex = 0xb9a #hexadecimal literal\n",
    "print(binar,decim,oct,hex,sep=\"\\n\")"
   ]
  },
  {
   "cell_type": "code",
   "execution_count": 5,
   "metadata": {},
   "outputs": [
    {
     "name": "stdout",
     "output_type": "stream",
     "text": [
      "3.0 14.0\n"
     ]
    }
   ],
   "source": [
    "#complex literal\n",
    "com = 3+14j\n",
    "print(com.real,com.imag)"
   ]
  },
  {
   "cell_type": "code",
   "execution_count": 3,
   "metadata": {},
   "outputs": [
    {
     "name": "stdout",
     "output_type": "stream",
     "text": [
      "2 0\n",
      "3 6\n",
      "4 24\n",
      "1 0\n",
      "-5\n",
      "7 3\n"
     ]
    }
   ],
   "source": []
  },
  {
   "cell_type": "code",
   "execution_count": 10,
   "metadata": {},
   "outputs": [
    {
     "name": "stdout",
     "output_type": "stream",
     "text": [
      "12\n"
     ]
    }
   ],
   "source": []
  },
  {
   "cell_type": "code",
   "execution_count": null,
   "metadata": {},
   "outputs": [],
   "source": []
  }
 ],
 "metadata": {
  "kernelspec": {
   "display_name": "Python 3",
   "language": "python",
   "name": "python3"
  },
  "language_info": {
   "codemirror_mode": {
    "name": "ipython",
    "version": 3
   },
   "file_extension": ".py",
   "mimetype": "text/x-python",
   "name": "python",
   "nbconvert_exporter": "python",
   "pygments_lexer": "ipython3",
   "version": "3.10.12"
  }
 },
 "nbformat": 4,
 "nbformat_minor": 2
}
