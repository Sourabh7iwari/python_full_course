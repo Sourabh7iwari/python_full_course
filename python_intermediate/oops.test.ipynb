def test_vehicle_initialization_with_valid_values():
    # Given
    hp = 100
    seats = 5
    milage = 20000

    # When
    vehicle = Vehicle(hp, seats, milage)

    # Then
    assert vehicle.hp == hp
    assert vehicle.seats == seats
    assert vehicle.milege == milage