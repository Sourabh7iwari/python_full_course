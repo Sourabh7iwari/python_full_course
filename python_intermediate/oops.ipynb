{
 "cells": [
  {
   "cell_type": "code",
   "execution_count": 46,
   "metadata": {},
   "outputs": [],
   "source": [
    "\n",
    "class Vehicle:\n",
    "    def __init__(self,cc,seats,milage, fuel_efficency) -> None:\n",
    "        self.cc = cc\n",
    "        self.seats=seats\n",
    "        self.milage=milage\n",
    "        self.fuel_efficency=fuel_efficency\n",
    "    \n",
    "# Price calculator method\n",
    "    def price(self) -> float:#+\n",
    "        price = (self.cc * 500) + (self.seats * 1000) - (self.milage * 0.01) + (5000 if self.fuel_efficency > 25 else 0)\n",
    "        return price\n",
    "\n"
   ]
  },
  {
   "cell_type": "code",
   "execution_count": 47,
   "metadata": {},
   "outputs": [
    {
     "name": "stdout",
     "output_type": "stream",
     "text": [
      "509800.0\n"
     ]
    }
   ],
   "source": [
    "cc = 1000\n",
    "seats = 5\n",
    "milage = 20000\n",
    "fuel_efficency = 40\n",
    "\n",
    "# When\n",
    "vehicle = Vehicle(cc, seats, milage,fuel_efficency)\n",
    "\n",
    "# Then\n",
    "price=vehicle.price()\n",
    "print(price)"
   ]
  },
  {
   "cell_type": "code",
   "execution_count": null,
   "metadata": {},
   "outputs": [],
   "source": []
  },
  {
   "cell_type": "code",
   "execution_count": null,
   "metadata": {},
   "outputs": [],
   "source": []
  }
 ],
 "metadata": {
  "kernelspec": {
   "display_name": "Python 3",
   "language": "python",
   "name": "python3"
  },
  "language_info": {
   "codemirror_mode": {
    "name": "ipython",
    "version": 3
   },
   "file_extension": ".py",
   "mimetype": "text/x-python",
   "name": "python",
   "nbconvert_exporter": "python",
   "pygments_lexer": "ipython3",
   "version": "3.10.12"
  }
 },
 "nbformat": 4,
 "nbformat_minor": 2
}
