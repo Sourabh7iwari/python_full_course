{
 "cells": [
  {
   "cell_type": "markdown",
   "metadata": {},
   "source": [
    "Python output"
   ]
  },
  {
   "cell_type": "code",
   "execution_count": 7,
   "metadata": {},
   "outputs": [
    {
     "name": "stdout",
     "output_type": "stream",
     "text": [
      "Python is Awesome\n",
      "python is\n",
      "                     awesome\n",
      "23\n",
      "17.45\n",
      "True\n",
      "bla\n",
      "            bla \n",
      "                bla 23 0.1 True\n",
      "bla\n",
      "            bla \n",
      "                bla/23/0.1/True\n"
     ]
    }
   ],
   "source": [
    "print(\"Python is Awesome\")\n",
    "print(\"\"\"python is\n",
    "                     awesome\"\"\")\n",
    "print(23)\n",
    "print(17.45)\n",
    "print(True)\n",
    "print(\"\"\"bla\n",
    "            bla \n",
    "                bla\"\"\",23,0.1,True)\n",
    "print(\"\"\"bla\n",
    "            bla \n",
    "                bla\"\"\",23,0.1,True,sep='/')"
   ]
  },
  {
   "cell_type": "code",
   "execution_count": 9,
   "metadata": {},
   "outputs": [
    {
     "name": "stdout",
     "output_type": "stream",
     "text": [
      "sourabh tiwari\n"
     ]
    }
   ],
   "source": [
    "print(\"sourabh\", end=' ')\n",
    "print(\"tiwari\")"
   ]
  },
  {
   "cell_type": "markdown",
   "metadata": {},
   "source": [
    "#Data types"
   ]
  },
  {
   "cell_type": "code",
   "execution_count": 13,
   "metadata": {},
   "outputs": [
    {
     "name": "stdout",
     "output_type": "stream",
     "text": [
      "2\n",
      "4.5\n",
      "True False\n",
      "text string\n"
     ]
    }
   ],
   "source": [
    "#Integers\n",
    "print(2)\n",
    "\n",
    "#float\n",
    "print(4.5)\n",
    "\n",
    "#Boolean\n",
    "print(True,False)\n",
    "\n",
    "#Text string\n",
    "print(\"text\", 'string')"
   ]
  },
  {
   "cell_type": "code",
   "execution_count": 16,
   "metadata": {},
   "outputs": [
    {
     "name": "stdout",
     "output_type": "stream",
     "text": [
      "(3+3j)\n"
     ]
    }
   ],
   "source": [
    "#complex\n",
    "j=1\n",
    "print(3+3j)\n"
   ]
  },
  {
   "cell_type": "code",
   "execution_count": 19,
   "metadata": {},
   "outputs": [
    {
     "name": "stdout",
     "output_type": "stream",
     "text": [
      "[1, 2, 3, 4, 5]\n"
     ]
    }
   ],
   "source": [
    "#List (mutable)\n",
    "print([1,2,3,4,5])"
   ]
  },
  {
   "cell_type": "code",
   "execution_count": 21,
   "metadata": {},
   "outputs": [
    {
     "name": "stdout",
     "output_type": "stream",
     "text": [
      "(1, 2, 3, 4, 5)\n"
     ]
    }
   ],
   "source": [
    "#tuple (immutable)\n",
    "print((1,2,3,4,5))"
   ]
  },
  {
   "cell_type": "code",
   "execution_count": 22,
   "metadata": {},
   "outputs": [
    {
     "name": "stdout",
     "output_type": "stream",
     "text": [
      "{1, 2, 3, 5}\n"
     ]
    }
   ],
   "source": [
    "#sets (mutable)\n",
    "print({1,2,3,3,5})\n"
   ]
  },
  {
   "cell_type": "code",
   "execution_count": 28,
   "metadata": {},
   "outputs": [
    {
     "name": "stdout",
     "output_type": "stream",
     "text": [
      "{'sourbh': 'string', False: 220873, 66: True}\n"
     ]
    }
   ],
   "source": [
    "#dictonary (mutable)\n",
    "print({\"sourbh\":\"string\",\n",
    "        False:220873,\n",
    "        66:True})"
   ]
  },
  {
   "cell_type": "code",
   "execution_count": 33,
   "metadata": {},
   "outputs": [
    {
     "name": "stdout",
     "output_type": "stream",
     "text": [
      "<class 'dict'>\n"
     ]
    }
   ],
   "source": [
    "print(type({}))\n"
   ]
  },
  {
   "cell_type": "code",
   "execution_count": null,
   "metadata": {},
   "outputs": [],
   "source": []
  }
 ],
 "metadata": {
  "kernelspec": {
   "display_name": "Python 3",
   "language": "python",
   "name": "python3"
  },
  "language_info": {
   "codemirror_mode": {
    "name": "ipython",
    "version": 3
   },
   "file_extension": ".py",
   "mimetype": "text/x-python",
   "name": "python",
   "nbconvert_exporter": "python",
   "pygments_lexer": "ipython3",
   "version": "3.12.4"
  }
 },
 "nbformat": 4,
 "nbformat_minor": 2
}
